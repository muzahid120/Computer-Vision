{
 "cells": [
  {
   "cell_type": "code",
   "execution_count": 8,
   "metadata": {},
   "outputs": [],
   "source": [
    "import cv2 as cv\n",
    "import numpy as np "
   ]
  },
  {
   "cell_type": "code",
   "execution_count": 9,
   "metadata": {},
   "outputs": [],
   "source": [
    "# image path \n",
    "path=r'C:\\Users\\SDS\\Downloads\\nature-turquoise-sea-beach-wallpaper-preview_out.jpg'"
   ]
  },
  {
   "cell_type": "code",
   "execution_count": 19,
   "metadata": {},
   "outputs": [],
   "source": [
    "#read image \n",
    "img=cv.imread(path)\n",
    "# showing img \n",
    "cv.imshow('img',img)\n",
    "# how much time wait img on windows\n",
    "k=cv.waitKey(0) & 0xFF \n",
    "if k==27:\n",
    "\n",
    "# destroy all windows\n",
    "    cv.destroyAllWindows()\n",
    "# writing img \n",
    "elif k== ord('s'):# if we press ('s') it will save imge file \n",
    "    cv.imwrite('nature.png',img)\n",
    "    cv.destroyAllWindows()"
   ]
  },
  {
   "cell_type": "code",
   "execution_count": 11,
   "metadata": {},
   "outputs": [],
   "source": []
  }
 ],
 "metadata": {
  "kernelspec": {
   "display_name": "test2",
   "language": "python",
   "name": "python3"
  },
  "language_info": {
   "codemirror_mode": {
    "name": "ipython",
    "version": 3
   },
   "file_extension": ".py",
   "mimetype": "text/x-python",
   "name": "python",
   "nbconvert_exporter": "python",
   "pygments_lexer": "ipython3",
   "version": "3.8.18"
  }
 },
 "nbformat": 4,
 "nbformat_minor": 2
}
