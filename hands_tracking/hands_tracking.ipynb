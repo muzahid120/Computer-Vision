{
 "cells": [
  {
   "cell_type": "code",
   "execution_count": 5,
   "metadata": {},
   "outputs": [],
   "source": [
    "import cv2 as cv \n",
    "import mediapipe as mp "
   ]
  },
  {
   "cell_type": "code",
   "execution_count": 6,
   "metadata": {},
   "outputs": [],
   "source": [
    "hands=mp.solutions.hands\n",
    "hands_mesh=hands.Hands(static_image_mode=True,min_tracking_confidence=0.7)\n",
    "draw=mp.solutions.drawing_utils\n"
   ]
  },
  {
   "cell_type": "code",
   "execution_count": 15,
   "metadata": {},
   "outputs": [],
   "source": [
    "cap =cv.VideoCapture(0)\n",
    "while True:\n",
    "    rect,frame=cap.read()\n",
    "    rgb=cv.cvtColor(frame,cv.COLOR_BGR2RGB)\n",
    "    op=hands_mesh.process(rgb)\n",
    "    #print(dir(op))\n",
    "    if op.multi_hand_landmarks:\n",
    "        for i in op.multi_hand_landmarks:\n",
    "            draw.draw_landmarks(frame,i,hands.HAND_CONNECTIONS,\n",
    "            landmark_drawing_spec=draw.DrawingSpec(circle_radius=2,\n",
    "            color=(0,255,0)))\n",
    "\n",
    "    cv.imshow('frame',frame)\n",
    "    if cv.waitKey(1) & 0xFF==ord('q'):\n",
    "        break\n",
    "cap.release()\n",
    "cv.destroyAllWindows()"
   ]
  }
 ],
 "metadata": {
  "kernelspec": {
   "display_name": "test2",
   "language": "python",
   "name": "python3"
  },
  "language_info": {
   "codemirror_mode": {
    "name": "ipython",
    "version": 3
   },
   "file_extension": ".py",
   "mimetype": "text/x-python",
   "name": "python",
   "nbconvert_exporter": "python",
   "pygments_lexer": "ipython3",
   "version": "3.8.18"
  }
 },
 "nbformat": 4,
 "nbformat_minor": 2
}
